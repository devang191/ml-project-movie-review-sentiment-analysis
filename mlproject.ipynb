{
 "cells": [
  {
   "cell_type": "code",
   "execution_count": 7,
   "metadata": {},
   "outputs": [
    {
     "name": "stdout",
     "output_type": "stream",
     "text": [
      "['films', 'adapted', 'from', 'comic', 'books', 'have', ...]\n",
      "['plot', ':', 'two', 'teen', 'couples', 'go', 'to', ...]\n",
      "['films', 'adapted', 'from', 'comic', 'books', 'have', 'had', 'plenty', 'of', 'success', ',', 'whether', 'they', \"'\", 're', 'about', 'superheroes', '(', 'batman', ',']\n",
      "['plot', ':', 'two', 'teen', 'couples', 'go', 'to', 'a', 'church', 'party', ',', 'drink', 'and', 'then', 'drive', '.', 'they', 'get', 'into', 'an']\n"
     ]
    }
   ],
   "source": [
    "from nltk.corpus import movie_reviews \n",
    " \n",
    "pos_reviews = []\n",
    "for fileid in movie_reviews.fileids('pos'):\n",
    "    words = movie_reviews.words(fileid)\n",
    "    pos_reviews.append(words)\n",
    "    \n",
    "neg_reviews = []\n",
    "for fileid in movie_reviews.fileids('neg'):\n",
    "    words = movie_reviews.words(fileid)\n",
    "    neg_reviews.append(words)\n",
    "    \n",
    "print (pos_reviews[0])\n",
    "\n",
    "print (neg_reviews[0])\n",
    " \n",
    "print (pos_reviews[0][:20])\n",
    "\n",
    "print (neg_reviews[0][:20])\n"
   ]
  },
  {
   "cell_type": "code",
   "execution_count": 8,
   "metadata": {},
   "outputs": [
    {
     "name": "stdout",
     "output_type": "stream",
     "text": [
      "{'good': True, 'bad': True}\n"
     ]
    }
   ],
   "source": [
    "from nltk.corpus import stopwords \n",
    "import string \n",
    " \n",
    "stopwords_english = stopwords.words('english')\n",
    " \n",
    "# feature extractor\n",
    "def bag_of_words(words):\n",
    "    words_clean = []\n",
    " \n",
    "    for word in words:\n",
    "        word = word.lower()\n",
    "        if word not in stopwords_english and word not in string.punctuation:\n",
    "            words_clean.append(word)\n",
    "    \n",
    "    words_dictionary = dict([word, True] for word in words_clean)\n",
    "\n",
    "    return words_dictionary\n",
    " \n",
    "print (bag_of_words(['the', 'the', 'good', 'bad', 'the', 'good']))\n"
   ]
  },
  {
   "cell_type": "code",
   "execution_count": 9,
   "metadata": {},
   "outputs": [
    {
     "name": "stdout",
     "output_type": "stream",
     "text": [
      "({'every': True, 'movie': True, 'comes': True, 'along': True, 'suspect': True, 'studio': True, 'indication': True, 'stinker': True, 'everybody': True, 'surprise': True, 'perhaps': True, 'even': True, 'film': True, 'becomes': True, 'critical': True, 'darling': True, 'mtv': True, 'films': True, '_election': True, 'high': True, 'school': True, 'comedy': True, 'starring': True, 'matthew': True, 'broderick': True, 'reese': True, 'witherspoon': True, 'current': True, 'example': True, 'anybody': True, 'know': True, 'existed': True, 'week': True, 'opened': True, 'plot': True, 'deceptively': True, 'simple': True, 'george': True, 'washington': True, 'carver': True, 'student': True, 'elections': True, 'tracy': True, 'flick': True, 'achiever': True, 'hand': True, 'raised': True, 'nearly': True, 'question': True, 'way': True, 'mr': True, 'sick': True, 'megalomaniac': True, 'encourages': True, 'paul': True, 'popular': True, 'slow': True, 'jock': True, 'run': True, 'nihilistic': True, 'sister': True, 'jumps': True, 'race': True, 'well': True, 'personal': True, 'reasons': True, 'dark': True, 'side': True, 'sleeper': True, 'success': True, 'expectations': True, 'low': True, 'going': True, 'fact': True, 'quality': True, 'stuff': True, 'made': True, 'reviews': True, 'enthusiastic': True, 'right': True, 'help': True, 'baggage': True, 'glowing': True, 'contrast': True, 'negative': True, 'reviewers': True, 'likely': True, 'good': True, 'live': True, 'hype': True, 'makes': True, '_election_': True, 'disappointing': True, 'contains': True, 'significant': True, 'details': True, 'lifted': True, 'directly': True, '_rushmore_': True, 'released': True, 'months': True, 'earlier': True, 'similarities': True, 'staggering': True, 'president': True, 'extraordinary': True, 'number': True, 'clubs': True, 'involved': True, 'play': True, 'max': True, 'fischer': True, 'tension': True, 'potential': True, 'relationship': True, 'teacher': True, 'single': True, 'parent': True, 'home': True, 'contributed': True, 'drive': True, 'male': True, 'bumbling': True, 'adult': True, 'pursues': True, 'extramarital': True, 'affair': True, 'gets': True, 'caught': True, 'whole': True, 'life': True, 'ruined': True, 'bee': True, 'sting': True, 'bill': True, 'murray': True, 'several': True, 'stings': True, 'happened': True, 'individual': True, 'screenplay': True, 'novel': True, 'contain': True, 'many': True, 'points': True, 'yet': True, 'probably': True, 'aware': True, 'two': True, 'different': True, 'studios': True, 'genre': True, 'geeks': True, 'revenge': True, 'fully': True, 'formed': True, 'strengths': True, 'rely': True, 'upon': True, 'fantastic': True, 'performances': True, 'newcomer': True, 'jessica': True, 'campbell': True, 'anti': True, 'social': True, 'tammy': True, 'playing': True, 'rooney': True, 'role': True, '_ferris': True, 'bueller_': True, 'seems': True, 'fun': True, 'since': True, 'revelation': True, 'early': True, 'year': True, 'teenagers': True, 'little': True, 'clout': True, 'money': True, 'deserves': True, 'oscar': True, 'nomination': True, 'character': True, 'like': True, 'speech': True, 'gymnasium': True, 'one': True, 'thing': True, 'bothering': True, 'seen': True, 'amount': True, 'sexuality': True, 'suppose': True, 'coming': True, 'expect': True, 'less': True, 'starts': True, 'light': True, 'airy': True, 'sitcom': True, 'screws': True, 'tighten': True, 'tensions': True, 'mount': True, 'alexander': True, 'payne': True, 'decides': True, 'add': True, 'elements': True, 'frankly': True, 'distract': True, 'story': True, 'bad': True, 'enough': True, 'determination': True, 'win': True, 'costs': True, 'throw': True, 'logical': True, 'reason': True, 'lot': True, 'tonal': True, 'nosedive': True, 'takes': True, 'explicitly': True, 'sex': True, 'driven': True, 'mark': True, 'disappointment': True}, 'pos')\n",
      "({'plot': True, 'two': True, 'teen': True, 'couples': True, 'go': True, 'church': True, 'party': True, 'drink': True, 'drive': True, 'get': True, 'accident': True, 'one': True, 'guys': True, 'dies': True, 'girlfriend': True, 'continues': True, 'see': True, 'life': True, 'nightmares': True, 'deal': True, 'watch': True, 'movie': True, 'sorta': True, 'find': True, 'critique': True, 'mind': True, 'fuck': True, 'generation': True, 'touches': True, 'cool': True, 'idea': True, 'presents': True, 'bad': True, 'package': True, 'makes': True, 'review': True, 'even': True, 'harder': True, 'write': True, 'since': True, 'generally': True, 'applaud': True, 'films': True, 'attempt': True, 'break': True, 'mold': True, 'mess': True, 'head': True, 'lost': True, 'highway': True, 'memento': True, 'good': True, 'ways': True, 'making': True, 'types': True, 'folks': True, 'snag': True, 'correctly': True, 'seem': True, 'taken': True, 'pretty': True, 'neat': True, 'concept': True, 'executed': True, 'terribly': True, 'problems': True, 'well': True, 'main': True, 'problem': True, 'simply': True, 'jumbled': True, 'starts': True, 'normal': True, 'downshifts': True, 'fantasy': True, 'world': True, 'audience': True, 'member': True, 'going': True, 'dreams': True, 'characters': True, 'coming': True, 'back': True, 'dead': True, 'others': True, 'look': True, 'like': True, 'strange': True, 'apparitions': True, 'disappearances': True, 'looooot': True, 'chase': True, 'scenes': True, 'tons': True, 'weird': True, 'things': True, 'happen': True, 'explained': True, 'personally': True, 'trying': True, 'unravel': True, 'film': True, 'every': True, 'give': True, 'clue': True, 'kind': True, 'fed': True, 'biggest': True, 'obviously': True, 'got': True, 'big': True, 'secret': True, 'hide': True, 'seems': True, 'want': True, 'completely': True, 'final': True, 'five': True, 'minutes': True, 'make': True, 'entertaining': True, 'thrilling': True, 'engaging': True, 'meantime': True, 'really': True, 'sad': True, 'part': True, 'arrow': True, 'dig': True, 'flicks': True, 'actually': True, 'figured': True, 'half': True, 'way': True, 'point': True, 'strangeness': True, 'start': True, 'little': True, 'bit': True, 'sense': True, 'still': True, 'guess': True, 'bottom': True, 'line': True, 'movies': True, 'always': True, 'sure': True, 'given': True, 'password': True, 'enter': True, 'understanding': True, 'mean': True, 'showing': True, 'melissa': True, 'sagemiller': True, 'running': True, 'away': True, 'visions': True, '20': True, 'throughout': True, 'plain': True, 'lazy': True, 'okay': True, 'people': True, 'chasing': True, 'know': True, 'need': True, 'giving': True, 'us': True, 'different': True, 'offering': True, 'insight': True, 'apparently': True, 'studio': True, 'took': True, 'director': True, 'chopped': True, 'shows': True, 'might': True, 'decent': True, 'somewhere': True, 'suits': True, 'decided': True, 'turning': True, 'music': True, 'video': True, 'edge': True, 'would': True, 'actors': True, 'although': True, 'wes': True, 'bentley': True, 'seemed': True, 'playing': True, 'exact': True, 'character': True, 'american': True, 'beauty': True, 'new': True, 'neighborhood': True, 'kudos': True, 'holds': True, 'entire': True, 'feeling': True, 'unraveling': True, 'overall': True, 'stick': True, 'entertain': True, 'confusing': True, 'rarely': True, 'excites': True, 'feels': True, 'redundant': True, 'runtime': True, 'despite': True, 'ending': True, 'explanation': True, 'craziness': True, 'came': True, 'oh': True, 'horror': True, 'slasher': True, 'flick': True, 'packaged': True, 'someone': True, 'assuming': True, 'genre': True, 'hot': True, 'kids': True, 'also': True, 'wrapped': True, 'production': True, 'years': True, 'ago': True, 'sitting': True, 'shelves': True, 'ever': True, 'whatever': True, 'skip': True, 'joblo': True, 'nightmare': True, 'elm': True, 'street': True, '3': True, '7': True, '10': True, 'blair': True, 'witch': True, '2': True, 'crow': True, '9': True, 'salvation': True, '4': True, 'stir': True, 'echoes': True, '8': True}, 'neg')\n"
     ]
    }
   ],
   "source": [
    "pos_reviews_set = []\n",
    "for words in pos_reviews:\n",
    "    pos_reviews_set.append((bag_of_words(words), 'pos'))\n",
    " \n",
    "neg_reviews_set = []\n",
    "for words in neg_reviews:\n",
    "    neg_reviews_set.append((bag_of_words(words), 'neg'))\n",
    "\n",
    "print (pos_reviews_set[1])\n",
    " \n",
    "print (neg_reviews_set[0])\n",
    "\n"
   ]
  },
  {
   "cell_type": "code",
   "execution_count": 11,
   "metadata": {},
   "outputs": [
    {
     "name": "stdout",
     "output_type": "stream",
     "text": [
      "1000 1000\n",
      "400 1600\n"
     ]
    }
   ],
   "source": [
    "from random import shuffle\n",
    "print (len(pos_reviews_set), len(neg_reviews_set)) \n",
    "\n",
    "shuffle(pos_reviews_set)\n",
    "shuffle(neg_reviews_set)\n",
    " \n",
    "test_set = pos_reviews_set[:200] + neg_reviews_set[:200]\n",
    "train_set = pos_reviews_set[200:] + neg_reviews_set[200:]\n",
    " \n",
    "print(len(test_set),  len(train_set)) "
   ]
  },
  {
   "cell_type": "code",
   "execution_count": 12,
   "metadata": {},
   "outputs": [
    {
     "name": "stdout",
     "output_type": "stream",
     "text": [
      "0.6875\n",
      "Most Informative Features\n",
      "               stupidity = True              neg : pos    =     15.0 : 1.0\n",
      "               insulting = True              neg : pos    =     13.7 : 1.0\n",
      "                  finest = True              pos : neg    =     13.0 : 1.0\n",
      "               confident = True              pos : neg    =     13.0 : 1.0\n",
      "                captures = True              pos : neg    =     11.8 : 1.0\n",
      "                  avoids = True              pos : neg    =     11.7 : 1.0\n",
      "                 chuckle = True              neg : pos    =     11.0 : 1.0\n",
      "             mesmerizing = True              pos : neg    =     11.0 : 1.0\n",
      "             outstanding = True              pos : neg    =     10.8 : 1.0\n",
      "           unintentional = True              neg : pos    =     10.3 : 1.0\n",
      "None\n"
     ]
    }
   ],
   "source": [
    "from nltk import classify\n",
    "from nltk import NaiveBayesClassifier\n",
    " \n",
    "classifier = NaiveBayesClassifier.train(train_set)\n",
    " \n",
    "accuracy = classify.accuracy(classifier, test_set)\n",
    "print(accuracy) \n",
    " \n",
    "print (classifier.show_most_informative_features(10))\n"
   ]
  },
  {
   "cell_type": "code",
   "execution_count": 13,
   "metadata": {},
   "outputs": [
    {
     "name": "stdout",
     "output_type": "stream",
     "text": [
      "neg\n",
      "<ProbDist with 2 samples>\n",
      "neg\n",
      "0.8190878605514517\n",
      "0.18091213944854811\n",
      "pos\n",
      "<ProbDist with 2 samples>\n",
      "pos\n",
      "1.282845128703211e-05\n",
      "0.9999871715487147\n"
     ]
    }
   ],
   "source": [
    "from nltk.tokenize import word_tokenize\n",
    " \n",
    "custom_review = \"I hated the film. It was a disaster. Poor direction, bad acting.\"\n",
    "custom_review_tokens = word_tokenize(custom_review)\n",
    "custom_review_set = bag_of_words(custom_review_tokens)\n",
    "print (classifier.classify(custom_review_set)) \n",
    "\n",
    "prob_result = classifier.prob_classify(custom_review_set)\n",
    "print (prob_result) \n",
    "print (prob_result.max()) \n",
    "print (prob_result.prob(\"neg\")) \n",
    "print (prob_result.prob(\"pos\")) \n",
    " \n",
    "custom_review = \"\"\"\"ad not been finalized , so no comments about marilyn manson ) , but cinematographer peter deming ( don't say a word ) ably captures the dreariness of victorian-era london and helped make the flashy killing scenes remind me of the crazy flashbacks in twin peaks , even though the violence in the film pales in comparison to that in the black-and-white comic\n",
    "oscar winner martin childs ( shakespeare in love ) production design turns the original prague surroundings into one creepy place . \n",
    "even the acting in from hell is solid , with the dreamy depp turning in a\"\"\"\n",
    "\n",
    "custom_review_tokens = word_tokenize(custom_review)\n",
    "custom_review_set = bag_of_words(custom_review_tokens)\n",
    " \n",
    "print (classifier.classify(custom_review_set)) \n",
    "\n",
    "prob_result = classifier.prob_classify(custom_review_set)\n",
    "print (prob_result) \n",
    "print (prob_result.max()) \n",
    "print (prob_result.prob(\"neg\")) \n",
    "print (prob_result.prob(\"pos\")) "
   ]
  },
  {
   "cell_type": "code",
   "execution_count": null,
   "metadata": {},
   "outputs": [],
   "source": []
  },
  {
   "cell_type": "code",
   "execution_count": null,
   "metadata": {},
   "outputs": [],
   "source": []
  }
 ],
 "metadata": {
  "kernelspec": {
   "display_name": "Python 3",
   "language": "python",
   "name": "python3"
  },
  "language_info": {
   "codemirror_mode": {
    "name": "ipython",
    "version": 3
   },
   "file_extension": ".py",
   "mimetype": "text/x-python",
   "name": "python",
   "nbconvert_exporter": "python",
   "pygments_lexer": "ipython3",
   "version": "3.7.1"
  }
 },
 "nbformat": 4,
 "nbformat_minor": 2
}
